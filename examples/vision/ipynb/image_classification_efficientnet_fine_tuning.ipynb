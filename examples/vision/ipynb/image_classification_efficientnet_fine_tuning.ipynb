{
  "cells": [
    {
      "cell_type": "markdown",
      "metadata": {
        "id": "V0EFe0na73Zf"
      },
      "source": [
        "# Image classification via fine-tuning with EfficientNet\n",
        "\n",
        "**Author:** [Yixing Fu](https://github.com/yixingfu)<br>\n",
        "**Date created:** 2020/06/30<br>\n",
        "**Last modified:** 2023/07/10<br>\n",
        "**Description:** Use EfficientNet with weights pre-trained on imagenet for Stanford Dogs classification."
      ]
    },
    {
      "cell_type": "markdown",
      "metadata": {
        "id": "sLcLpynZ73Zg"
      },
      "source": [
        "## Introduction: what is EfficientNet\n",
        "\n",
        "EfficientNet, first introduced in [Tan and Le, 2019](https://arxiv.org/abs/1905.11946)\n",
        "is among the most efficient models (i.e. requiring least FLOPS for inference)\n",
        "that reaches State-of-the-Art accuracy on both\n",
        "imagenet and common image classification transfer learning tasks.\n",
        "\n",
        "The smallest base model is similar to [MnasNet](https://arxiv.org/abs/1807.11626), which\n",
        "reached near-SOTA with a significantly smaller model. By introducing a heuristic way to\n",
        "scale the model, EfficientNet provides a family of models (B0 to B7) that represents a\n",
        "good combination of efficiency and accuracy on a variety of scales. Such a scaling\n",
        "heuristics (compound-scaling, details see\n",
        "[Tan and Le, 2019](https://arxiv.org/abs/1905.11946)) allows the\n",
        "efficiency-oriented base model (B0) to surpass models at every scale, while avoiding\n",
        "extensive grid-search of hyperparameters.\n",
        "\n",
        "A summary of the latest updates on the model is available at\n",
        "[here](https://github.com/tensorflow/tpu/tree/master/models/official/efficientnet), where various\n",
        "augmentation schemes and semi-supervised learning approaches are applied to further\n",
        "improve the imagenet performance of the models. These extensions of the model can be used\n",
        "by updating weights without changing model architecture.\n",
        "\n",
        "## B0 to B7 variants of EfficientNet\n",
        "\n",
        "*(This section provides some details on \"compound scaling\", and can be skipped\n",
        "if you're only interested in using the models)*\n",
        "\n",
        "Based on the [original paper](https://arxiv.org/abs/1905.11946) people may have the\n",
        "impression that EfficientNet is a continuous family of models created by arbitrarily\n",
        "choosing scaling factor in as Eq.(3) of the paper.  However, choice of resolution,\n",
        "depth and width are also restricted by many factors:\n",
        "\n",
        "- Resolution: Resolutions not divisible by 8, 16, etc. cause zero-padding near boundaries\n",
        "of some layers which wastes computational resources. This especially applies to smaller\n",
        "variants of the model, hence the input resolution for B0 and B1 are chosen as 224 and\n",
        "240.\n",
        "\n",
        "- Depth and width: The building blocks of EfficientNet demands channel size to be\n",
        "multiples of 8.\n",
        "\n",
        "- Resource limit: Memory limitation may bottleneck resolution when depth\n",
        "and width can still increase. In such a situation, increasing depth and/or\n",
        "width but keep resolution can still improve performance.\n",
        "\n",
        "As a result, the depth, width and resolution of each variant of the EfficientNet models\n",
        "are hand-picked and proven to produce good results, though they may be significantly\n",
        "off from the compound scaling formula.\n",
        "Therefore, the keras implementation (detailed below) only provide these 8 models, B0 to B7,\n",
        "instead of allowing arbitray choice of width / depth / resolution parameters.\n",
        "\n",
        "## Keras implementation of EfficientNet\n",
        "\n",
        "An implementation of EfficientNet B0 to B7 has been shipped with Keras since v2.3. To\n",
        "use EfficientNetB0 for classifying 1000 classes of images from ImageNet, run:\n",
        "\n",
        "```python\n",
        "from tensorflow.keras.applications import EfficientNetB0\n",
        "model = EfficientNetB0(weights='imagenet')\n",
        "```\n",
        "\n",
        "This model takes input images of shape `(224, 224, 3)`, and the input data should be in the\n",
        "range `[0, 255]`. Normalization is included as part of the model.\n",
        "\n",
        "Because training EfficientNet on ImageNet takes a tremendous amount of resources and\n",
        "several techniques that are not a part of the model architecture itself. Hence the Keras\n",
        "implementation by default loads pre-trained weights obtained via training with\n",
        "[AutoAugment](https://arxiv.org/abs/1805.09501).\n",
        "\n",
        "For B0 to B7 base models, the input shapes are different. Here is a list of input shape\n",
        "expected for each model:\n",
        "\n",
        "| Base model | resolution|\n",
        "|----------------|-----|\n",
        "| EfficientNetB0 | 224 |\n",
        "| EfficientNetB1 | 240 |\n",
        "| EfficientNetB2 | 260 |\n",
        "| EfficientNetB3 | 300 |\n",
        "| EfficientNetB4 | 380 |\n",
        "| EfficientNetB5 | 456 |\n",
        "| EfficientNetB6 | 528 |\n",
        "| EfficientNetB7 | 600 |\n",
        "\n",
        "When the model is intended for transfer learning, the Keras implementation\n",
        "provides a option to remove the top layers:\n",
        "```\n",
        "model = EfficientNetB0(include_top=False, weights='imagenet')\n",
        "```\n",
        "This option excludes the final `Dense` layer that turns 1280 features on the penultimate\n",
        "layer into prediction of the 1000 ImageNet classes. Replacing the top layer with custom\n",
        "layers allows using EfficientNet as a feature extractor in a transfer learning workflow.\n",
        "\n",
        "Another argument in the model constructor worth noticing is `drop_connect_rate` which controls\n",
        "the dropout rate responsible for [stochastic depth](https://arxiv.org/abs/1603.09382).\n",
        "This parameter serves as a toggle for extra regularization in finetuning, but does not\n",
        "affect loaded weights. For example, when stronger regularization is desired, try:\n",
        "\n",
        "```python\n",
        "model = EfficientNetB0(weights='imagenet', drop_connect_rate=0.4)\n",
        "```\n",
        "The default value is 0.2.\n",
        "\n",
        "## Example: EfficientNetB0 for Stanford Dogs.\n",
        "\n",
        "EfficientNet is capable of a wide range of image classification tasks.\n",
        "This makes it a good model for transfer learning.\n",
        "As an end-to-end example, we will show using pre-trained EfficientNetB0 on\n",
        "[Stanford Dogs](http://vision.stanford.edu/aditya86/ImageNetDogs/main.html) dataset."
      ]
    },
    {
      "cell_type": "markdown",
      "metadata": {
        "id": "4vQuo7tD73Zg"
      },
      "source": [
        "## Setup and data loading"
      ]
    },
    {
      "cell_type": "code",
      "execution_count": 3,
      "metadata": {
        "id": "_hDNqojx73Zg"
      },
      "outputs": [],
      "source": [
        "import numpy as np\n",
        "import tensorflow_datasets as tfds\n",
        "import tensorflow as tf  # For tf.data\n",
        "import matplotlib.pyplot as plt\n",
        "import keras\n",
        "from keras import layers\n",
        "from keras.applications import EfficientNetB0\n",
        "\n",
        "# IMG_SIZE is determined by EfficientNet model choice\n",
        "IMG_SIZE = 224\n",
        "BATCH_SIZE = 64\n"
      ]
    },
    {
      "cell_type": "code",
      "source": [
        "print('TensorFlow version = ' + str(tf.__version__))"
      ],
      "metadata": {
        "colab": {
          "base_uri": "https://localhost:8080/"
        },
        "id": "HJRxW--b8H9a",
        "outputId": "da65b894-9b5d-41c4-c64c-0255a7fdad7e"
      },
      "execution_count": 2,
      "outputs": [
        {
          "output_type": "stream",
          "name": "stdout",
          "text": [
            "TensorFlow version = 2.18.0\n"
          ]
        }
      ]
    },
    {
      "cell_type": "markdown",
      "metadata": {
        "id": "J3F_p55u73Zg"
      },
      "source": [
        "### Loading data\n",
        "\n",
        "Here we load data from [tensorflow_datasets](https://www.tensorflow.org/datasets)\n",
        "(hereafter TFDS).\n",
        "Stanford Dogs dataset is provided in\n",
        "TFDS as [stanford_dogs](https://www.tensorflow.org/datasets/catalog/stanford_dogs).\n",
        "It features 20,580 images that belong to 120 classes of dog breeds\n",
        "(12,000 for training and 8,580 for testing).\n",
        "\n",
        "By simply changing `dataset_name` below, you may also try this notebook for\n",
        "other datasets in TFDS such as\n",
        "[cifar10](https://www.tensorflow.org/datasets/catalog/cifar10),\n",
        "[cifar100](https://www.tensorflow.org/datasets/catalog/cifar100),\n",
        "[food101](https://www.tensorflow.org/datasets/catalog/food101),\n",
        "etc. When the images are much smaller than the size of EfficientNet input,\n",
        "we can simply upsample the input images. It has been shown in\n",
        "[Tan and Le, 2019](https://arxiv.org/abs/1905.11946) that transfer learning\n",
        "result is better for increased resolution even if input images remain small."
      ]
    },
    {
      "cell_type": "code",
      "execution_count": null,
      "metadata": {
        "colab": {
          "base_uri": "https://localhost:8080/",
          "height": 98,
          "referenced_widgets": [
            "3708d77b83084d48a6591b335b5bda64",
            "e663771f2be846c0b3a1cee58cfca796",
            "757533cee2874c23b4a9bb663430c485",
            "0d47b0a3811e4af7ae62396f58eeeeac",
            "4cd320881ffd4639bba3b998e3bbddfb",
            "7cbb77b5785d46f4b9b05568a761cb23",
            "df9263e624ca466ab91ac02f8d8b702a",
            "5b16bb70afcf4549b778f70000eba170",
            "56f22c4687d9412799598d1f92898444",
            "352fb2e9c40c43a9ac274e37f7df5fc5",
            "17df25cc4d9c45c9ac24e56171bcdafd",
            "fddd34dd10c2417197a7094a26da0407",
            "d64cc2c64d35427fa4680e6c77ba52ca",
            "cf1ccde59d604417890b9dc3e01bbc12",
            "5337647f8d4f487fb507d90b55f896f3",
            "2c659761556148bd8e636e308ea6aa67",
            "ae29f5afb9454330b10c6180cd93a30d",
            "5e06bc623f8143b89f06257e1223e425",
            "c5886b0a2eb74c14a05050d77864d0e4",
            "bbffce028e5346e0a606f76a468b5628",
            "bf7bd7da57e44eb4b1725a2a60e85be1",
            "4dcb1a7d87504c988691efa2268e8c4b"
          ]
        },
        "id": "G46GkHTP73Zh",
        "outputId": "d5055e4e-152b-40df-ecd8-552c6fd1206d"
      },
      "outputs": [
        {
          "output_type": "stream",
          "name": "stdout",
          "text": [
            "Downloading and preparing dataset 778.12 MiB (download: 778.12 MiB, generated: Unknown size, total: 778.12 MiB) to /root/tensorflow_datasets/stanford_dogs/0.2.0...\n"
          ]
        },
        {
          "output_type": "display_data",
          "data": {
            "text/plain": [
              "Dl Completed...: 0 url [00:00, ? url/s]"
            ],
            "application/vnd.jupyter.widget-view+json": {
              "version_major": 2,
              "version_minor": 0,
              "model_id": "3708d77b83084d48a6591b335b5bda64"
            }
          },
          "metadata": {}
        },
        {
          "output_type": "display_data",
          "data": {
            "text/plain": [
              "Dl Size...: 0 MiB [00:00, ? MiB/s]"
            ],
            "application/vnd.jupyter.widget-view+json": {
              "version_major": 2,
              "version_minor": 0,
              "model_id": "fddd34dd10c2417197a7094a26da0407"
            }
          },
          "metadata": {}
        }
      ],
      "source": [
        "dataset_name = \"stanford_dogs\"\n",
        "(ds_train, ds_test), ds_info = tfds.load(\n",
        "    dataset_name, split=[\"train\", \"test\"], with_info=True, as_supervised=True\n",
        ")\n",
        "NUM_CLASSES = ds_info.features[\"label\"].num_classes\n"
      ]
    },
    {
      "cell_type": "markdown",
      "metadata": {
        "id": "U8NK0kRT73Zh"
      },
      "source": [
        "When the dataset include images with various size, we need to resize them into a\n",
        "shared size. The Stanford Dogs dataset includes only images at least 200x200\n",
        "pixels in size. Here we resize the images to the input size needed for EfficientNet."
      ]
    },
    {
      "cell_type": "code",
      "execution_count": null,
      "metadata": {
        "id": "eLk2LmFr73Zh"
      },
      "outputs": [],
      "source": [
        "size = (IMG_SIZE, IMG_SIZE)\n",
        "ds_train = ds_train.map(lambda image, label: (tf.image.resize(image, size), label))\n",
        "ds_test = ds_test.map(lambda image, label: (tf.image.resize(image, size), label))"
      ]
    },
    {
      "cell_type": "markdown",
      "metadata": {
        "id": "WYmzl0NC73Zh"
      },
      "source": [
        "### Visualizing the data\n",
        "\n",
        "The following code shows the first 9 images with their labels."
      ]
    },
    {
      "cell_type": "code",
      "execution_count": null,
      "metadata": {
        "id": "vG63uULP73Zh"
      },
      "outputs": [],
      "source": [
        "\n",
        "def format_label(label):\n",
        "    string_label = label_info.int2str(label)\n",
        "    return string_label.split(\"-\")[1]\n",
        "\n",
        "\n",
        "label_info = ds_info.features[\"label\"]\n",
        "for i, (image, label) in enumerate(ds_train.take(9)):\n",
        "    ax = plt.subplot(3, 3, i + 1)\n",
        "    plt.imshow(image.numpy().astype(\"uint8\"))\n",
        "    plt.title(\"{}\".format(format_label(label)))\n",
        "    plt.axis(\"off\")\n"
      ]
    },
    {
      "cell_type": "markdown",
      "metadata": {
        "id": "gTEK9pRx73Zh"
      },
      "source": [
        "### Data augmentation\n",
        "\n",
        "We can use the preprocessing layers APIs for image augmentation."
      ]
    },
    {
      "cell_type": "code",
      "execution_count": null,
      "metadata": {
        "id": "7sZlRV0373Zh"
      },
      "outputs": [],
      "source": [
        "img_augmentation_layers = [\n",
        "    layers.RandomRotation(factor=0.15),\n",
        "    layers.RandomTranslation(height_factor=0.1, width_factor=0.1),\n",
        "    layers.RandomFlip(),\n",
        "    layers.RandomContrast(factor=0.1),\n",
        "]\n",
        "\n",
        "\n",
        "def img_augmentation(images):\n",
        "    for layer in img_augmentation_layers:\n",
        "        images = layer(images)\n",
        "    return images\n"
      ]
    },
    {
      "cell_type": "markdown",
      "metadata": {
        "id": "0gVQIkE273Zh"
      },
      "source": [
        "This `Sequential` model object can be used both as a part of\n",
        "the model we later build, and as a function to preprocess\n",
        "data before feeding into the model. Using them as function makes\n",
        "it easy to visualize the augmented images. Here we plot 9 examples\n",
        "of augmentation result of a given figure."
      ]
    },
    {
      "cell_type": "code",
      "execution_count": null,
      "metadata": {
        "id": "kKr6RuQt73Zh"
      },
      "outputs": [],
      "source": [
        "for image, label in ds_train.take(1):\n",
        "    for i in range(9):\n",
        "        ax = plt.subplot(3, 3, i + 1)\n",
        "        aug_img = img_augmentation(np.expand_dims(image.numpy(), axis=0))\n",
        "        aug_img = np.array(aug_img)\n",
        "        plt.imshow(aug_img[0].astype(\"uint8\"))\n",
        "        plt.title(\"{}\".format(format_label(label)))\n",
        "        plt.axis(\"off\")\n"
      ]
    },
    {
      "cell_type": "markdown",
      "metadata": {
        "id": "7uE-lt_A73Zh"
      },
      "source": [
        "### Prepare inputs\n",
        "\n",
        "Once we verify the input data and augmentation are working correctly,\n",
        "we prepare dataset for training. The input data are resized to uniform\n",
        "`IMG_SIZE`. The labels are put into one-hot\n",
        "(a.k.a. categorical) encoding. The dataset is batched.\n",
        "\n",
        "Note: `prefetch` and `AUTOTUNE` may in some situation improve\n",
        "performance, but depends on environment and the specific dataset used.\n",
        "See this [guide](https://www.tensorflow.org/guide/data_performance)\n",
        "for more information on data pipeline performance."
      ]
    },
    {
      "cell_type": "code",
      "execution_count": null,
      "metadata": {
        "id": "ZVfaH9MW73Zh"
      },
      "outputs": [],
      "source": [
        "\n",
        "# One-hot / categorical encoding\n",
        "def input_preprocess_train(image, label):\n",
        "    image = img_augmentation(image)\n",
        "    label = tf.one_hot(label, NUM_CLASSES)\n",
        "    return image, label\n",
        "\n",
        "\n",
        "def input_preprocess_test(image, label):\n",
        "    label = tf.one_hot(label, NUM_CLASSES)\n",
        "    return image, label\n",
        "\n",
        "\n",
        "ds_train = ds_train.map(input_preprocess_train, num_parallel_calls=tf.data.AUTOTUNE)\n",
        "ds_train = ds_train.batch(batch_size=BATCH_SIZE, drop_remainder=True)\n",
        "ds_train = ds_train.prefetch(tf.data.AUTOTUNE)\n",
        "\n",
        "ds_test = ds_test.map(input_preprocess_test, num_parallel_calls=tf.data.AUTOTUNE)\n",
        "ds_test = ds_test.batch(batch_size=BATCH_SIZE, drop_remainder=True)\n"
      ]
    },
    {
      "cell_type": "markdown",
      "metadata": {
        "id": "Gwq7MSxy73Zh"
      },
      "source": [
        "## Training a model from scratch\n",
        "\n",
        "We build an EfficientNetB0 with 120 output classes, that is initialized from scratch:\n",
        "\n",
        "Note: the accuracy will increase very slowly and may overfit."
      ]
    },
    {
      "cell_type": "code",
      "execution_count": null,
      "metadata": {
        "id": "jvSaXZPo73Zh"
      },
      "outputs": [],
      "source": [
        "model = EfficientNetB0(\n",
        "    include_top=True,\n",
        "    weights=None,\n",
        "    classes=NUM_CLASSES,\n",
        "    input_shape=(IMG_SIZE, IMG_SIZE, 3),\n",
        ")\n",
        "model.compile(optimizer=\"adam\", loss=\"categorical_crossentropy\", metrics=[\"accuracy\"])\n",
        "\n",
        "model.summary()\n",
        "\n",
        "epochs = 40  # @param {type: \"slider\", min:10, max:100}\n",
        "hist = model.fit(ds_train, epochs=epochs, validation_data=ds_test)\n"
      ]
    },
    {
      "cell_type": "markdown",
      "metadata": {
        "id": "5TE1tutd73Zh"
      },
      "source": [
        "Training the model is relatively fast. This might make it sounds easy to simply train EfficientNet on any\n",
        "dataset wanted from scratch. However, training EfficientNet on smaller datasets,\n",
        "especially those with lower resolution like CIFAR-100, faces the significant challenge of\n",
        "overfitting.\n",
        "\n",
        "Hence training from scratch requires very careful choice of hyperparameters and is\n",
        "difficult to find suitable regularization. It would also be much more demanding in resources.\n",
        "Plotting the training and validation accuracy\n",
        "makes it clear that validation accuracy stagnates at a low value."
      ]
    },
    {
      "cell_type": "code",
      "execution_count": null,
      "metadata": {
        "id": "VNBj8ZY173Zh"
      },
      "outputs": [],
      "source": [
        "import matplotlib.pyplot as plt\n",
        "\n",
        "def plot_hist(hist):\n",
        "    _,ax = plt.subplots(1,2, figsize = (12,6))\n",
        "    ax[0].plot(hist.history[\"accuracy\"])\n",
        "    ax[0].plot(hist.history[\"val_accuracy\"])\n",
        "    ax[0].set_title(\"model accuracy\")\n",
        "    ax[0].set_ylabel(\"accuracy\")\n",
        "    ax[0].set_xlabel(\"epoch\")\n",
        "    ax[0].legend([\"train\", \"validation\"], loc=\"upper left\")\n",
        "    ax[1].plot(hist.history[\"loss\"])\n",
        "    ax[1].plot(hist.history[\"val_loss\"])\n",
        "    ax[1].set_title(\"model loss\")\n",
        "    ax[1].set_ylabel(\"loss\")\n",
        "    ax[1].set_xlabel(\"epoch\")\n",
        "    ax[1].legend([\"train\", \"validation\"], loc=\"upper right\")\n",
        "    plt.show()\n",
        "\n",
        "plot_hist(hist)"
      ]
    },
    {
      "cell_type": "markdown",
      "metadata": {
        "id": "qbIHSDeM73Zh"
      },
      "source": [
        "## Transfer learning from pre-trained weights\n",
        "\n",
        "Here we initialize the model with pre-trained ImageNet weights,\n",
        "and we fine-tune it on our own dataset."
      ]
    },
    {
      "cell_type": "code",
      "execution_count": null,
      "metadata": {
        "id": "wP7WeDQb73Zi"
      },
      "outputs": [],
      "source": [
        "\n",
        "def build_model(num_classes):\n",
        "    inputs = layers.Input(shape=(IMG_SIZE, IMG_SIZE, 3))\n",
        "    model = EfficientNetB0(include_top=False, input_tensor=inputs, weights=\"imagenet\")\n",
        "\n",
        "    # Freeze the pretrained weights\n",
        "    model.trainable = False\n",
        "\n",
        "    # Rebuild top\n",
        "    x = layers.GlobalAveragePooling2D(name=\"avg_pool\")(model.output)\n",
        "    x = layers.BatchNormalization()(x)\n",
        "\n",
        "    top_dropout_rate = 0.2\n",
        "    x = layers.Dropout(top_dropout_rate, name=\"top_dropout\")(x)\n",
        "    outputs = layers.Dense(num_classes, activation=\"softmax\", name=\"pred\")(x)\n",
        "\n",
        "    # Compile\n",
        "    model = keras.Model(inputs, outputs, name=\"EfficientNet\")\n",
        "    optimizer = keras.optimizers.Adam(learning_rate=1e-2)\n",
        "    model.compile(\n",
        "        optimizer=optimizer, loss=\"categorical_crossentropy\", metrics=[\"accuracy\"]\n",
        "    )\n",
        "    return model\n"
      ]
    },
    {
      "cell_type": "markdown",
      "metadata": {
        "id": "v0l3o0yl73Zi"
      },
      "source": [
        "The first step to transfer learning is to freeze all layers and train only the top\n",
        "layers. For this step, a relatively large learning rate (1e-2) can be used.\n",
        "Note that validation accuracy and loss will usually be better than training\n",
        "accuracy and loss. This is because the regularization is strong, which only\n",
        "suppresses training-time metrics.\n",
        "\n",
        "Note that the convergence may take up to 50 epochs depending on choice of learning rate.\n",
        "If image augmentation layers were not\n",
        "applied, the validation accuracy may only reach ~60%."
      ]
    },
    {
      "cell_type": "code",
      "execution_count": null,
      "metadata": {
        "id": "jzHUmUcY73Zi"
      },
      "outputs": [],
      "source": [
        "model = build_model(num_classes=NUM_CLASSES)\n",
        "\n",
        "epochs = 25  # @param {type: \"slider\", min:8, max:80}\n",
        "hist = model.fit(ds_train, epochs=epochs, validation_data=ds_test)\n",
        "plot_hist(hist)"
      ]
    },
    {
      "cell_type": "markdown",
      "metadata": {
        "id": "4UkwPyP873Zi"
      },
      "source": [
        "The second step is to unfreeze a number of layers and fit the model using smaller\n",
        "learning rate. In this example we show unfreezing all layers, but depending on\n",
        "specific dataset it may be desireble to only unfreeze a fraction of all layers.\n",
        "\n",
        "When the feature extraction with\n",
        "pretrained model works good enough, this step would give a very limited gain on\n",
        "validation accuracy. In our case we only see a small improvement,\n",
        "as ImageNet pretraining already exposed the model to a good amount of dogs.\n",
        "\n",
        "On the other hand, when we use pretrained weights on a dataset that is more different\n",
        "from ImageNet, this fine-tuning step can be crucial as the feature extractor also\n",
        "needs to be adjusted by a considerable amount. Such a situation can be demonstrated\n",
        "if choosing CIFAR-100 dataset instead, where fine-tuning boosts validation accuracy\n",
        "by about 10% to pass 80% on `EfficientNetB0`.\n",
        "\n",
        "A side note on freezing/unfreezing models: setting `trainable` of a `Model` will\n",
        "simultaneously set all layers belonging to the `Model` to the same `trainable`\n",
        "attribute. Each layer is trainable only if both the layer itself and the model\n",
        "containing it are trainable. Hence when we need to partially freeze/unfreeze\n",
        "a model, we need to make sure the `trainable` attribute of the model is set\n",
        "to `True`."
      ]
    },
    {
      "cell_type": "code",
      "execution_count": null,
      "metadata": {
        "id": "ENpIx1JC73Zi"
      },
      "outputs": [],
      "source": [
        "\n",
        "def unfreeze_model(model):\n",
        "    # We unfreeze the top 20 layers while leaving BatchNorm layers frozen\n",
        "    for layer in model.layers[-20:]:\n",
        "        if not isinstance(layer, layers.BatchNormalization):\n",
        "            layer.trainable = True\n",
        "\n",
        "    optimizer = keras.optimizers.Adam(learning_rate=1e-5)\n",
        "    model.compile(\n",
        "        optimizer=optimizer, loss=\"categorical_crossentropy\", metrics=[\"accuracy\"]\n",
        "    )\n",
        "\n",
        "\n",
        "unfreeze_model(model)\n",
        "\n",
        "epochs = 4  # @param {type: \"slider\", min:4, max:10}\n",
        "hist = model.fit(ds_train, epochs=epochs, validation_data=ds_test)\n",
        "plot_hist(hist)"
      ]
    },
    {
      "cell_type": "markdown",
      "metadata": {
        "id": "Yo4wN8Vo73Zi"
      },
      "source": [
        "### Tips for fine tuning EfficientNet\n",
        "\n",
        "On unfreezing layers:\n",
        "\n",
        "- The `BatchNormalization` layers need to be kept frozen\n",
        "([more details](https://keras.io/guides/transfer_learning/)).\n",
        "If they are also turned to trainable, the\n",
        "first epoch after unfreezing will significantly reduce accuracy.\n",
        "- In some cases it may be beneficial to open up only a portion of layers instead of\n",
        "unfreezing all. This will make fine tuning much faster when going to larger models like\n",
        "B7.\n",
        "- Each block needs to be all turned on or off. This is because the architecture includes\n",
        "a shortcut from the first layer to the last layer for each block. Not respecting blocks\n",
        "also significantly harms the final performance.\n",
        "\n",
        "Some other tips for utilizing EfficientNet:\n",
        "\n",
        "- Larger variants of EfficientNet do not guarantee improved performance, especially for\n",
        "tasks with less data or fewer classes. In such a case, the larger variant of EfficientNet\n",
        "chosen, the harder it is to tune hyperparameters.\n",
        "- EMA (Exponential Moving Average) is very helpful in training EfficientNet from scratch,\n",
        "but not so much for transfer learning.\n",
        "- Do not use the RMSprop setup as in the original paper for transfer learning. The\n",
        "momentum and learning rate are too high for transfer learning. It will easily corrupt the\n",
        "pretrained weight and blow up the loss. A quick check is to see if loss (as categorical\n",
        "cross entropy) is getting significantly larger than log(NUM_CLASSES) after the same\n",
        "epoch. If so, the initial learning rate/momentum is too high.\n",
        "- Smaller batch size benefit validation accuracy, possibly due to effectively providing\n",
        "regularization."
      ]
    }
  ],
  "metadata": {
    "accelerator": "GPU",
    "colab": {
      "name": "image_classification_efficientnet_fine_tuning",
      "provenance": [],
      "toc_visible": true,
      "machine_shape": "hm",
      "gpuType": "T4"
    },
    "kernelspec": {
      "display_name": "Python 3",
      "name": "python3"
    },
    "language_info": {
      "codemirror_mode": {
        "name": "ipython",
        "version": 3
      },
      "file_extension": ".py",
      "mimetype": "text/x-python",
      "name": "python",
      "nbconvert_exporter": "python",
      "pygments_lexer": "ipython3",
      "version": "3.7.0"
    },
    "widgets": {
      "application/vnd.jupyter.widget-state+json": {
        "3708d77b83084d48a6591b335b5bda64": {
          "model_module": "@jupyter-widgets/controls",
          "model_name": "HBoxModel",
          "model_module_version": "1.5.0",
          "state": {
            "_dom_classes": [],
            "_model_module": "@jupyter-widgets/controls",
            "_model_module_version": "1.5.0",
            "_model_name": "HBoxModel",
            "_view_count": null,
            "_view_module": "@jupyter-widgets/controls",
            "_view_module_version": "1.5.0",
            "_view_name": "HBoxView",
            "box_style": "",
            "children": [
              "IPY_MODEL_e663771f2be846c0b3a1cee58cfca796",
              "IPY_MODEL_757533cee2874c23b4a9bb663430c485",
              "IPY_MODEL_0d47b0a3811e4af7ae62396f58eeeeac"
            ],
            "layout": "IPY_MODEL_4cd320881ffd4639bba3b998e3bbddfb"
          }
        },
        "e663771f2be846c0b3a1cee58cfca796": {
          "model_module": "@jupyter-widgets/controls",
          "model_name": "HTMLModel",
          "model_module_version": "1.5.0",
          "state": {
            "_dom_classes": [],
            "_model_module": "@jupyter-widgets/controls",
            "_model_module_version": "1.5.0",
            "_model_name": "HTMLModel",
            "_view_count": null,
            "_view_module": "@jupyter-widgets/controls",
            "_view_module_version": "1.5.0",
            "_view_name": "HTMLView",
            "description": "",
            "description_tooltip": null,
            "layout": "IPY_MODEL_7cbb77b5785d46f4b9b05568a761cb23",
            "placeholder": "​",
            "style": "IPY_MODEL_df9263e624ca466ab91ac02f8d8b702a",
            "value": "Dl Completed...:   0%"
          }
        },
        "757533cee2874c23b4a9bb663430c485": {
          "model_module": "@jupyter-widgets/controls",
          "model_name": "FloatProgressModel",
          "model_module_version": "1.5.0",
          "state": {
            "_dom_classes": [],
            "_model_module": "@jupyter-widgets/controls",
            "_model_module_version": "1.5.0",
            "_model_name": "FloatProgressModel",
            "_view_count": null,
            "_view_module": "@jupyter-widgets/controls",
            "_view_module_version": "1.5.0",
            "_view_name": "ProgressView",
            "bar_style": "info",
            "description": "",
            "description_tooltip": null,
            "layout": "IPY_MODEL_5b16bb70afcf4549b778f70000eba170",
            "max": 1,
            "min": 0,
            "orientation": "horizontal",
            "style": "IPY_MODEL_56f22c4687d9412799598d1f92898444",
            "value": 0
          }
        },
        "0d47b0a3811e4af7ae62396f58eeeeac": {
          "model_module": "@jupyter-widgets/controls",
          "model_name": "HTMLModel",
          "model_module_version": "1.5.0",
          "state": {
            "_dom_classes": [],
            "_model_module": "@jupyter-widgets/controls",
            "_model_module_version": "1.5.0",
            "_model_name": "HTMLModel",
            "_view_count": null,
            "_view_module": "@jupyter-widgets/controls",
            "_view_module_version": "1.5.0",
            "_view_name": "HTMLView",
            "description": "",
            "description_tooltip": null,
            "layout": "IPY_MODEL_352fb2e9c40c43a9ac274e37f7df5fc5",
            "placeholder": "​",
            "style": "IPY_MODEL_17df25cc4d9c45c9ac24e56171bcdafd",
            "value": " 0/1 [00:28&lt;?, ? url/s]"
          }
        },
        "4cd320881ffd4639bba3b998e3bbddfb": {
          "model_module": "@jupyter-widgets/base",
          "model_name": "LayoutModel",
          "model_module_version": "1.2.0",
          "state": {
            "_model_module": "@jupyter-widgets/base",
            "_model_module_version": "1.2.0",
            "_model_name": "LayoutModel",
            "_view_count": null,
            "_view_module": "@jupyter-widgets/base",
            "_view_module_version": "1.2.0",
            "_view_name": "LayoutView",
            "align_content": null,
            "align_items": null,
            "align_self": null,
            "border": null,
            "bottom": null,
            "display": null,
            "flex": null,
            "flex_flow": null,
            "grid_area": null,
            "grid_auto_columns": null,
            "grid_auto_flow": null,
            "grid_auto_rows": null,
            "grid_column": null,
            "grid_gap": null,
            "grid_row": null,
            "grid_template_areas": null,
            "grid_template_columns": null,
            "grid_template_rows": null,
            "height": null,
            "justify_content": null,
            "justify_items": null,
            "left": null,
            "margin": null,
            "max_height": null,
            "max_width": null,
            "min_height": null,
            "min_width": null,
            "object_fit": null,
            "object_position": null,
            "order": null,
            "overflow": null,
            "overflow_x": null,
            "overflow_y": null,
            "padding": null,
            "right": null,
            "top": null,
            "visibility": null,
            "width": null
          }
        },
        "7cbb77b5785d46f4b9b05568a761cb23": {
          "model_module": "@jupyter-widgets/base",
          "model_name": "LayoutModel",
          "model_module_version": "1.2.0",
          "state": {
            "_model_module": "@jupyter-widgets/base",
            "_model_module_version": "1.2.0",
            "_model_name": "LayoutModel",
            "_view_count": null,
            "_view_module": "@jupyter-widgets/base",
            "_view_module_version": "1.2.0",
            "_view_name": "LayoutView",
            "align_content": null,
            "align_items": null,
            "align_self": null,
            "border": null,
            "bottom": null,
            "display": null,
            "flex": null,
            "flex_flow": null,
            "grid_area": null,
            "grid_auto_columns": null,
            "grid_auto_flow": null,
            "grid_auto_rows": null,
            "grid_column": null,
            "grid_gap": null,
            "grid_row": null,
            "grid_template_areas": null,
            "grid_template_columns": null,
            "grid_template_rows": null,
            "height": null,
            "justify_content": null,
            "justify_items": null,
            "left": null,
            "margin": null,
            "max_height": null,
            "max_width": null,
            "min_height": null,
            "min_width": null,
            "object_fit": null,
            "object_position": null,
            "order": null,
            "overflow": null,
            "overflow_x": null,
            "overflow_y": null,
            "padding": null,
            "right": null,
            "top": null,
            "visibility": null,
            "width": null
          }
        },
        "df9263e624ca466ab91ac02f8d8b702a": {
          "model_module": "@jupyter-widgets/controls",
          "model_name": "DescriptionStyleModel",
          "model_module_version": "1.5.0",
          "state": {
            "_model_module": "@jupyter-widgets/controls",
            "_model_module_version": "1.5.0",
            "_model_name": "DescriptionStyleModel",
            "_view_count": null,
            "_view_module": "@jupyter-widgets/base",
            "_view_module_version": "1.2.0",
            "_view_name": "StyleView",
            "description_width": ""
          }
        },
        "5b16bb70afcf4549b778f70000eba170": {
          "model_module": "@jupyter-widgets/base",
          "model_name": "LayoutModel",
          "model_module_version": "1.2.0",
          "state": {
            "_model_module": "@jupyter-widgets/base",
            "_model_module_version": "1.2.0",
            "_model_name": "LayoutModel",
            "_view_count": null,
            "_view_module": "@jupyter-widgets/base",
            "_view_module_version": "1.2.0",
            "_view_name": "LayoutView",
            "align_content": null,
            "align_items": null,
            "align_self": null,
            "border": null,
            "bottom": null,
            "display": null,
            "flex": null,
            "flex_flow": null,
            "grid_area": null,
            "grid_auto_columns": null,
            "grid_auto_flow": null,
            "grid_auto_rows": null,
            "grid_column": null,
            "grid_gap": null,
            "grid_row": null,
            "grid_template_areas": null,
            "grid_template_columns": null,
            "grid_template_rows": null,
            "height": null,
            "justify_content": null,
            "justify_items": null,
            "left": null,
            "margin": null,
            "max_height": null,
            "max_width": null,
            "min_height": null,
            "min_width": null,
            "object_fit": null,
            "object_position": null,
            "order": null,
            "overflow": null,
            "overflow_x": null,
            "overflow_y": null,
            "padding": null,
            "right": null,
            "top": null,
            "visibility": null,
            "width": "20px"
          }
        },
        "56f22c4687d9412799598d1f92898444": {
          "model_module": "@jupyter-widgets/controls",
          "model_name": "ProgressStyleModel",
          "model_module_version": "1.5.0",
          "state": {
            "_model_module": "@jupyter-widgets/controls",
            "_model_module_version": "1.5.0",
            "_model_name": "ProgressStyleModel",
            "_view_count": null,
            "_view_module": "@jupyter-widgets/base",
            "_view_module_version": "1.2.0",
            "_view_name": "StyleView",
            "bar_color": null,
            "description_width": ""
          }
        },
        "352fb2e9c40c43a9ac274e37f7df5fc5": {
          "model_module": "@jupyter-widgets/base",
          "model_name": "LayoutModel",
          "model_module_version": "1.2.0",
          "state": {
            "_model_module": "@jupyter-widgets/base",
            "_model_module_version": "1.2.0",
            "_model_name": "LayoutModel",
            "_view_count": null,
            "_view_module": "@jupyter-widgets/base",
            "_view_module_version": "1.2.0",
            "_view_name": "LayoutView",
            "align_content": null,
            "align_items": null,
            "align_self": null,
            "border": null,
            "bottom": null,
            "display": null,
            "flex": null,
            "flex_flow": null,
            "grid_area": null,
            "grid_auto_columns": null,
            "grid_auto_flow": null,
            "grid_auto_rows": null,
            "grid_column": null,
            "grid_gap": null,
            "grid_row": null,
            "grid_template_areas": null,
            "grid_template_columns": null,
            "grid_template_rows": null,
            "height": null,
            "justify_content": null,
            "justify_items": null,
            "left": null,
            "margin": null,
            "max_height": null,
            "max_width": null,
            "min_height": null,
            "min_width": null,
            "object_fit": null,
            "object_position": null,
            "order": null,
            "overflow": null,
            "overflow_x": null,
            "overflow_y": null,
            "padding": null,
            "right": null,
            "top": null,
            "visibility": null,
            "width": null
          }
        },
        "17df25cc4d9c45c9ac24e56171bcdafd": {
          "model_module": "@jupyter-widgets/controls",
          "model_name": "DescriptionStyleModel",
          "model_module_version": "1.5.0",
          "state": {
            "_model_module": "@jupyter-widgets/controls",
            "_model_module_version": "1.5.0",
            "_model_name": "DescriptionStyleModel",
            "_view_count": null,
            "_view_module": "@jupyter-widgets/base",
            "_view_module_version": "1.2.0",
            "_view_name": "StyleView",
            "description_width": ""
          }
        },
        "fddd34dd10c2417197a7094a26da0407": {
          "model_module": "@jupyter-widgets/controls",
          "model_name": "HBoxModel",
          "model_module_version": "1.5.0",
          "state": {
            "_dom_classes": [],
            "_model_module": "@jupyter-widgets/controls",
            "_model_module_version": "1.5.0",
            "_model_name": "HBoxModel",
            "_view_count": null,
            "_view_module": "@jupyter-widgets/controls",
            "_view_module_version": "1.5.0",
            "_view_name": "HBoxView",
            "box_style": "",
            "children": [
              "IPY_MODEL_d64cc2c64d35427fa4680e6c77ba52ca",
              "IPY_MODEL_cf1ccde59d604417890b9dc3e01bbc12",
              "IPY_MODEL_5337647f8d4f487fb507d90b55f896f3"
            ],
            "layout": "IPY_MODEL_2c659761556148bd8e636e308ea6aa67"
          }
        },
        "d64cc2c64d35427fa4680e6c77ba52ca": {
          "model_module": "@jupyter-widgets/controls",
          "model_name": "HTMLModel",
          "model_module_version": "1.5.0",
          "state": {
            "_dom_classes": [],
            "_model_module": "@jupyter-widgets/controls",
            "_model_module_version": "1.5.0",
            "_model_name": "HTMLModel",
            "_view_count": null,
            "_view_module": "@jupyter-widgets/controls",
            "_view_module_version": "1.5.0",
            "_view_name": "HTMLView",
            "description": "",
            "description_tooltip": null,
            "layout": "IPY_MODEL_ae29f5afb9454330b10c6180cd93a30d",
            "placeholder": "​",
            "style": "IPY_MODEL_5e06bc623f8143b89f06257e1223e425",
            "value": "Dl Size...:   6%"
          }
        },
        "cf1ccde59d604417890b9dc3e01bbc12": {
          "model_module": "@jupyter-widgets/controls",
          "model_name": "FloatProgressModel",
          "model_module_version": "1.5.0",
          "state": {
            "_dom_classes": [],
            "_model_module": "@jupyter-widgets/controls",
            "_model_module_version": "1.5.0",
            "_model_name": "FloatProgressModel",
            "_view_count": null,
            "_view_module": "@jupyter-widgets/controls",
            "_view_module_version": "1.5.0",
            "_view_name": "ProgressView",
            "bar_style": "info",
            "description": "",
            "description_tooltip": null,
            "layout": "IPY_MODEL_c5886b0a2eb74c14a05050d77864d0e4",
            "max": 1,
            "min": 0,
            "orientation": "horizontal",
            "style": "IPY_MODEL_bbffce028e5346e0a606f76a468b5628",
            "value": 1
          }
        },
        "5337647f8d4f487fb507d90b55f896f3": {
          "model_module": "@jupyter-widgets/controls",
          "model_name": "HTMLModel",
          "model_module_version": "1.5.0",
          "state": {
            "_dom_classes": [],
            "_model_module": "@jupyter-widgets/controls",
            "_model_module_version": "1.5.0",
            "_model_name": "HTMLModel",
            "_view_count": null,
            "_view_module": "@jupyter-widgets/controls",
            "_view_module_version": "1.5.0",
            "_view_name": "HTMLView",
            "description": "",
            "description_tooltip": null,
            "layout": "IPY_MODEL_bf7bd7da57e44eb4b1725a2a60e85be1",
            "placeholder": "​",
            "style": "IPY_MODEL_4dcb1a7d87504c988691efa2268e8c4b",
            "value": " 45/756 [00:28&lt;05:00,  2.37 MiB/s]"
          }
        },
        "2c659761556148bd8e636e308ea6aa67": {
          "model_module": "@jupyter-widgets/base",
          "model_name": "LayoutModel",
          "model_module_version": "1.2.0",
          "state": {
            "_model_module": "@jupyter-widgets/base",
            "_model_module_version": "1.2.0",
            "_model_name": "LayoutModel",
            "_view_count": null,
            "_view_module": "@jupyter-widgets/base",
            "_view_module_version": "1.2.0",
            "_view_name": "LayoutView",
            "align_content": null,
            "align_items": null,
            "align_self": null,
            "border": null,
            "bottom": null,
            "display": null,
            "flex": null,
            "flex_flow": null,
            "grid_area": null,
            "grid_auto_columns": null,
            "grid_auto_flow": null,
            "grid_auto_rows": null,
            "grid_column": null,
            "grid_gap": null,
            "grid_row": null,
            "grid_template_areas": null,
            "grid_template_columns": null,
            "grid_template_rows": null,
            "height": null,
            "justify_content": null,
            "justify_items": null,
            "left": null,
            "margin": null,
            "max_height": null,
            "max_width": null,
            "min_height": null,
            "min_width": null,
            "object_fit": null,
            "object_position": null,
            "order": null,
            "overflow": null,
            "overflow_x": null,
            "overflow_y": null,
            "padding": null,
            "right": null,
            "top": null,
            "visibility": null,
            "width": null
          }
        },
        "ae29f5afb9454330b10c6180cd93a30d": {
          "model_module": "@jupyter-widgets/base",
          "model_name": "LayoutModel",
          "model_module_version": "1.2.0",
          "state": {
            "_model_module": "@jupyter-widgets/base",
            "_model_module_version": "1.2.0",
            "_model_name": "LayoutModel",
            "_view_count": null,
            "_view_module": "@jupyter-widgets/base",
            "_view_module_version": "1.2.0",
            "_view_name": "LayoutView",
            "align_content": null,
            "align_items": null,
            "align_self": null,
            "border": null,
            "bottom": null,
            "display": null,
            "flex": null,
            "flex_flow": null,
            "grid_area": null,
            "grid_auto_columns": null,
            "grid_auto_flow": null,
            "grid_auto_rows": null,
            "grid_column": null,
            "grid_gap": null,
            "grid_row": null,
            "grid_template_areas": null,
            "grid_template_columns": null,
            "grid_template_rows": null,
            "height": null,
            "justify_content": null,
            "justify_items": null,
            "left": null,
            "margin": null,
            "max_height": null,
            "max_width": null,
            "min_height": null,
            "min_width": null,
            "object_fit": null,
            "object_position": null,
            "order": null,
            "overflow": null,
            "overflow_x": null,
            "overflow_y": null,
            "padding": null,
            "right": null,
            "top": null,
            "visibility": null,
            "width": null
          }
        },
        "5e06bc623f8143b89f06257e1223e425": {
          "model_module": "@jupyter-widgets/controls",
          "model_name": "DescriptionStyleModel",
          "model_module_version": "1.5.0",
          "state": {
            "_model_module": "@jupyter-widgets/controls",
            "_model_module_version": "1.5.0",
            "_model_name": "DescriptionStyleModel",
            "_view_count": null,
            "_view_module": "@jupyter-widgets/base",
            "_view_module_version": "1.2.0",
            "_view_name": "StyleView",
            "description_width": ""
          }
        },
        "c5886b0a2eb74c14a05050d77864d0e4": {
          "model_module": "@jupyter-widgets/base",
          "model_name": "LayoutModel",
          "model_module_version": "1.2.0",
          "state": {
            "_model_module": "@jupyter-widgets/base",
            "_model_module_version": "1.2.0",
            "_model_name": "LayoutModel",
            "_view_count": null,
            "_view_module": "@jupyter-widgets/base",
            "_view_module_version": "1.2.0",
            "_view_name": "LayoutView",
            "align_content": null,
            "align_items": null,
            "align_self": null,
            "border": null,
            "bottom": null,
            "display": null,
            "flex": null,
            "flex_flow": null,
            "grid_area": null,
            "grid_auto_columns": null,
            "grid_auto_flow": null,
            "grid_auto_rows": null,
            "grid_column": null,
            "grid_gap": null,
            "grid_row": null,
            "grid_template_areas": null,
            "grid_template_columns": null,
            "grid_template_rows": null,
            "height": null,
            "justify_content": null,
            "justify_items": null,
            "left": null,
            "margin": null,
            "max_height": null,
            "max_width": null,
            "min_height": null,
            "min_width": null,
            "object_fit": null,
            "object_position": null,
            "order": null,
            "overflow": null,
            "overflow_x": null,
            "overflow_y": null,
            "padding": null,
            "right": null,
            "top": null,
            "visibility": null,
            "width": "20px"
          }
        },
        "bbffce028e5346e0a606f76a468b5628": {
          "model_module": "@jupyter-widgets/controls",
          "model_name": "ProgressStyleModel",
          "model_module_version": "1.5.0",
          "state": {
            "_model_module": "@jupyter-widgets/controls",
            "_model_module_version": "1.5.0",
            "_model_name": "ProgressStyleModel",
            "_view_count": null,
            "_view_module": "@jupyter-widgets/base",
            "_view_module_version": "1.2.0",
            "_view_name": "StyleView",
            "bar_color": null,
            "description_width": ""
          }
        },
        "bf7bd7da57e44eb4b1725a2a60e85be1": {
          "model_module": "@jupyter-widgets/base",
          "model_name": "LayoutModel",
          "model_module_version": "1.2.0",
          "state": {
            "_model_module": "@jupyter-widgets/base",
            "_model_module_version": "1.2.0",
            "_model_name": "LayoutModel",
            "_view_count": null,
            "_view_module": "@jupyter-widgets/base",
            "_view_module_version": "1.2.0",
            "_view_name": "LayoutView",
            "align_content": null,
            "align_items": null,
            "align_self": null,
            "border": null,
            "bottom": null,
            "display": null,
            "flex": null,
            "flex_flow": null,
            "grid_area": null,
            "grid_auto_columns": null,
            "grid_auto_flow": null,
            "grid_auto_rows": null,
            "grid_column": null,
            "grid_gap": null,
            "grid_row": null,
            "grid_template_areas": null,
            "grid_template_columns": null,
            "grid_template_rows": null,
            "height": null,
            "justify_content": null,
            "justify_items": null,
            "left": null,
            "margin": null,
            "max_height": null,
            "max_width": null,
            "min_height": null,
            "min_width": null,
            "object_fit": null,
            "object_position": null,
            "order": null,
            "overflow": null,
            "overflow_x": null,
            "overflow_y": null,
            "padding": null,
            "right": null,
            "top": null,
            "visibility": null,
            "width": null
          }
        },
        "4dcb1a7d87504c988691efa2268e8c4b": {
          "model_module": "@jupyter-widgets/controls",
          "model_name": "DescriptionStyleModel",
          "model_module_version": "1.5.0",
          "state": {
            "_model_module": "@jupyter-widgets/controls",
            "_model_module_version": "1.5.0",
            "_model_name": "DescriptionStyleModel",
            "_view_count": null,
            "_view_module": "@jupyter-widgets/base",
            "_view_module_version": "1.2.0",
            "_view_name": "StyleView",
            "description_width": ""
          }
        }
      }
    }
  },
  "nbformat": 4,
  "nbformat_minor": 0
}
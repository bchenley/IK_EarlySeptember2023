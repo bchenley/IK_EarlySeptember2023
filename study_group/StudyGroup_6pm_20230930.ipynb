{
  "nbformat": 4,
  "nbformat_minor": 0,
  "metadata": {
    "colab": {
      "provenance": [],
      "include_colab_link": true
    },
    "kernelspec": {
      "name": "python3",
      "display_name": "Python 3"
    },
    "language_info": {
      "name": "python"
    }
  },
  "cells": [
    {
      "cell_type": "markdown",
      "metadata": {
        "id": "view-in-github",
        "colab_type": "text"
      },
      "source": [
        "<a href=\"https://colab.research.google.com/github/bchenley/IK_EarlySeptember2023/blob/main/StudyGroup_6pm_20230930.ipynb\" target=\"_parent\"><img src=\"https://colab.research.google.com/assets/colab-badge.svg\" alt=\"Open In Colab\"/></a>"
      ]
    },
    {
      "cell_type": "markdown",
      "source": [
        "Study Group 1: 2023-09-30"
      ],
      "metadata": {
        "id": "eVUtdtU5aj74"
      }
    },
    {
      "cell_type": "code",
      "execution_count": null,
      "metadata": {
        "id": "xQndhlbvJ18v"
      },
      "outputs": [],
      "source": [
        "import math"
      ]
    },
    {
      "cell_type": "code",
      "source": [
        "data = {[0, 1]: 0, 'y': 1}\n"
      ],
      "metadata": {
        "id": "548Hu77yKXBG"
      },
      "execution_count": null,
      "outputs": []
    },
    {
      "cell_type": "code",
      "source": [
        "t = [1, 2, 3, 'a', 'b', 'c']\n",
        "x = {'a': 0, 'b': 1, 'c': 2}\n",
        "\n",
        "for value,key in enumerate(x):\n",
        "  print(key, value)"
      ],
      "metadata": {
        "id": "jki5ktZ9L11b"
      },
      "execution_count": null,
      "outputs": []
    },
    {
      "cell_type": "code",
      "source": [
        "for i in range(len(t)):\n",
        "    print(i)"
      ],
      "metadata": {
        "id": "CcK1c--JM6GZ"
      },
      "execution_count": null,
      "outputs": []
    },
    {
      "cell_type": "code",
      "source": [
        "x = 5  # global variable\n",
        "\n",
        "def perform_calculation():\n",
        "    y = 10 # local variable\n",
        "    global x\n",
        "    x += y\n",
        "    print(\"Inside function: x =\", x, \"and y =\", y)\n",
        "\n",
        "def func2():\n",
        "  global x\n",
        "  print(x)\n",
        "  x += 1\n",
        "  z = x + 1\n",
        "\n",
        "  print(z)\n",
        "\n",
        "print(\"Before function call: x =\", x)\n",
        "perform_calculation()\n",
        "print(\"After function call: x =\", x)\n",
        "func2()"
      ],
      "metadata": {
        "id": "Wirc1aM0M7Q6",
        "colab": {
          "base_uri": "https://localhost:8080/",
          "height": 429
        },
        "outputId": "0343cf9c-a26f-44da-f214-1f817ad6ba85"
      },
      "execution_count": null,
      "outputs": [
        {
          "output_type": "stream",
          "name": "stdout",
          "text": [
            "Before function call: x = 5\n",
            "Inside function: x = 15 and y = 10\n",
            "After function call: x = 15\n"
          ]
        },
        {
          "output_type": "error",
          "ename": "UnboundLocalError",
          "evalue": "ignored",
          "traceback": [
            "\u001b[0;31m---------------------------------------------------------------------------\u001b[0m",
            "\u001b[0;31mUnboundLocalError\u001b[0m                         Traceback (most recent call last)",
            "\u001b[0;32m<ipython-input-21-57edba1ff5b9>\u001b[0m in \u001b[0;36m<cell line: 19>\u001b[0;34m()\u001b[0m\n\u001b[1;32m     17\u001b[0m \u001b[0mperform_calculation\u001b[0m\u001b[0;34m(\u001b[0m\u001b[0;34m)\u001b[0m\u001b[0;34m\u001b[0m\u001b[0;34m\u001b[0m\u001b[0m\n\u001b[1;32m     18\u001b[0m \u001b[0mprint\u001b[0m\u001b[0;34m(\u001b[0m\u001b[0;34m\"After function call: x =\"\u001b[0m\u001b[0;34m,\u001b[0m \u001b[0mx\u001b[0m\u001b[0;34m)\u001b[0m\u001b[0;34m\u001b[0m\u001b[0;34m\u001b[0m\u001b[0m\n\u001b[0;32m---> 19\u001b[0;31m \u001b[0mfunc2\u001b[0m\u001b[0;34m(\u001b[0m\u001b[0;34m)\u001b[0m\u001b[0;34m\u001b[0m\u001b[0;34m\u001b[0m\u001b[0m\n\u001b[0m",
            "\u001b[0;32m<ipython-input-21-57edba1ff5b9>\u001b[0m in \u001b[0;36mfunc2\u001b[0;34m()\u001b[0m\n\u001b[1;32m      8\u001b[0m \u001b[0;34m\u001b[0m\u001b[0m\n\u001b[1;32m      9\u001b[0m \u001b[0;32mdef\u001b[0m \u001b[0mfunc2\u001b[0m\u001b[0;34m(\u001b[0m\u001b[0;34m)\u001b[0m\u001b[0;34m:\u001b[0m\u001b[0;34m\u001b[0m\u001b[0;34m\u001b[0m\u001b[0m\n\u001b[0;32m---> 10\u001b[0;31m   \u001b[0mprint\u001b[0m\u001b[0;34m(\u001b[0m\u001b[0mx\u001b[0m\u001b[0;34m)\u001b[0m\u001b[0;34m\u001b[0m\u001b[0;34m\u001b[0m\u001b[0m\n\u001b[0m\u001b[1;32m     11\u001b[0m   \u001b[0mx\u001b[0m \u001b[0;34m+=\u001b[0m \u001b[0;36m1\u001b[0m\u001b[0;34m\u001b[0m\u001b[0;34m\u001b[0m\u001b[0m\n\u001b[1;32m     12\u001b[0m   \u001b[0mz\u001b[0m \u001b[0;34m=\u001b[0m \u001b[0mx\u001b[0m \u001b[0;34m+\u001b[0m \u001b[0;36m1\u001b[0m\u001b[0;34m\u001b[0m\u001b[0;34m\u001b[0m\u001b[0m\n",
            "\u001b[0;31mUnboundLocalError\u001b[0m: local variable 'x' referenced before assignment"
          ]
        }
      ]
    },
    {
      "cell_type": "code",
      "source": [
        "from collections import OrderedDict\n",
        "\n",
        "OrderedDict"
      ],
      "metadata": {
        "id": "d_W14Zb0TXUW",
        "colab": {
          "base_uri": "https://localhost:8080/"
        },
        "outputId": "cfc777aa-24a9-4220-c832-584b3ee99e87"
      },
      "execution_count": null,
      "outputs": [
        {
          "output_type": "execute_result",
          "data": {
            "text/plain": [
              "collections.OrderedDict"
            ]
          },
          "metadata": {},
          "execution_count": 47
        }
      ]
    },
    {
      "cell_type": "code",
      "source": [
        "dict_ = OrderedDict()\n",
        "\n"
      ],
      "metadata": {
        "id": "YprJ5pl3UoO_"
      },
      "execution_count": null,
      "outputs": []
    },
    {
      "cell_type": "code",
      "source": [
        "x = {'x': 0, 'y': 1, 'a': 2}\n",
        "\n",
        "class Dictionary(dict):\n",
        "  def __init__(self):\n",
        "    super(Dictionary).__init__(self)\n",
        "\n",
        "dict_ = Dictionary()"
      ],
      "metadata": {
        "id": "pftjNpTXO6ni"
      },
      "execution_count": null,
      "outputs": []
    },
    {
      "cell_type": "code",
      "source": [
        "class Dictionary(dict):\n",
        "  def __init__(self, x):\n",
        "    super().__init__(x)\n",
        "\n",
        "  def say_something(self):\n",
        "    print(\"something\")\n",
        "\n",
        "dict_ = Dictionary({\"hello\": \"again\", \"bye\": \"once again\"})\n",
        "\n",
        "dict_.get('hello')"
      ],
      "metadata": {
        "id": "dESQEPfdUUbf",
        "colab": {
          "base_uri": "https://localhost:8080/",
          "height": 35
        },
        "outputId": "bf96717f-5ce4-4694-fd23-f01b071192a8"
      },
      "execution_count": null,
      "outputs": [
        {
          "output_type": "execute_result",
          "data": {
            "text/plain": [
              "'again'"
            ],
            "application/vnd.google.colaboratory.intrinsic+json": {
              "type": "string"
            }
          },
          "metadata": {},
          "execution_count": 63
        }
      ]
    },
    {
      "cell_type": "code",
      "source": [
        "def sum_xyz(x,y,z):\n",
        "  return x+y+z"
      ],
      "metadata": {
        "id": "3cQgjqGOW1ll"
      },
      "execution_count": null,
      "outputs": []
    },
    {
      "cell_type": "code",
      "source": [
        "func = lambda x,y,z: x+y+z\n",
        "\n",
        "x, y, z = (0, 1, 2), {1, 2, 3}, [3, 4, 5]\n",
        "\n",
        "result = map(func, x, y, z)\n",
        "print(list(result))\n"
      ],
      "metadata": {
        "colab": {
          "base_uri": "https://localhost:8080/"
        },
        "id": "bmDK5liXV49E",
        "outputId": "46d2a652-713f-4d11-dd4b-b9066903e079"
      },
      "execution_count": null,
      "outputs": [
        {
          "output_type": "stream",
          "name": "stdout",
          "text": [
            "[4, 7, 10]\n"
          ]
        }
      ]
    }
  ]
}
